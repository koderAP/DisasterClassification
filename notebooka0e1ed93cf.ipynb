{
 "cells": [
  {
   "cell_type": "code",
   "execution_count": 1,
   "id": "df144467",
   "metadata": {
    "_cell_guid": "b1076dfc-b9ad-4769-8c92-a6c4dae69d19",
    "_uuid": "8f2839f25d086af736a60e9eeb907d3b93b6e0e5",
    "execution": {
     "iopub.execute_input": "2024-11-18T11:56:01.001784Z",
     "iopub.status.busy": "2024-11-18T11:56:01.001350Z",
     "iopub.status.idle": "2024-11-18T11:57:24.872072Z",
     "shell.execute_reply": "2024-11-18T11:57:24.870986Z"
    },
    "papermill": {
     "duration": 83.877563,
     "end_time": "2024-11-18T11:57:24.874449",
     "exception": false,
     "start_time": "2024-11-18T11:56:00.996886",
     "status": "completed"
    },
    "tags": []
   },
   "outputs": [
    {
     "name": "stdout",
     "output_type": "stream",
     "text": [
      "/opt/conda/lib/python3.10/site-packages/torchvision/models/_utils.py:208: UserWarning: The parameter 'pretrained' is deprecated since 0.13 and may be removed in the future, please use 'weights' instead.\r\n",
      "  warnings.warn(\r\n",
      "/opt/conda/lib/python3.10/site-packages/torchvision/models/_utils.py:223: UserWarning: Arguments other than a weight enum or `None` for 'weights' are deprecated since 0.13 and may be removed in the future. The current behavior is equivalent to passing `weights=ResNet50_Weights.IMAGENET1K_V1`. You can also use `weights=ResNet50_Weights.DEFAULT` to get the most up-to-date weights.\r\n",
      "  warnings.warn(msg)\r\n",
      "Downloading: \"https://download.pytorch.org/models/resnet50-0676ba61.pth\" to /root/.cache/torch/hub/checkpoints/resnet50-0676ba61.pth\r\n",
      "100%|███████████████████████████████████████| 97.8M/97.8M [00:00<00:00, 183MB/s]\r\n",
      "Using Support Vector Machine Model\r\n",
      "<PIL.Image.Image image mode=RGB size=666x700 at 0x7F9CA6873310>\r\n",
      "<PIL.Image.Image image mode=RGB size=480x360 at 0x7F9CA6873EB0>\r\n",
      "<PIL.Image.Image image mode=RGB size=1200x700 at 0x7F9CA6873E80>\r\n",
      "<PIL.Image.Image image mode=RGB size=900x499 at 0x7F9CA6873490>\r\n",
      "<PIL.Image.Image image mode=RGB size=696x522 at 0x7F9CA6873310>\r\n",
      "<PIL.Image.Image image mode=RGB size=1024x768 at 0x7F9CA6873EB0>\r\n",
      "<PIL.Image.Image image mode=RGB size=800x518 at 0x7F9CA6873E80>\r\n",
      "<PIL.Image.Image image mode=RGB size=460x279 at 0x7F9CA6873490>\r\n",
      "<PIL.Image.Image image mode=RGB size=992x558 at 0x7F9CA6873310>\r\n",
      "<PIL.Image.Image image mode=RGB size=1600x1000 at 0x7F9CA6873EB0>\r\n",
      "<PIL.Image.Image image mode=RGB size=2902x1633 at 0x7F9CA6873E80>\r\n",
      "<PIL.Image.Image image mode=RGB size=1500x1000 at 0x7F9CA6873490>\r\n",
      "Train Directory: /kaggle/input/disasterclassification/train\r\n",
      "Validation Directory: /kaggle/input/disasterclassification/validation\r\n",
      "Model Type: svm\r\n"
     ]
    }
   ],
   "source": [
    "!python3 /kaggle/input/ml-ass/main.py \"/kaggle/input/disasterclassification/train\" \"/kaggle/input/disasterclassification/validation\" svm"
   ]
  },
  {
   "cell_type": "code",
   "execution_count": 2,
   "id": "313d4fe6",
   "metadata": {
    "execution": {
     "iopub.execute_input": "2024-11-18T11:57:24.883348Z",
     "iopub.status.busy": "2024-11-18T11:57:24.883007Z",
     "iopub.status.idle": "2024-11-18T11:58:33.266672Z",
     "shell.execute_reply": "2024-11-18T11:58:33.265518Z"
    },
    "papermill": {
     "duration": 68.390696,
     "end_time": "2024-11-18T11:58:33.269028",
     "exception": false,
     "start_time": "2024-11-18T11:57:24.878332",
     "status": "completed"
    },
    "tags": []
   },
   "outputs": [
    {
     "name": "stdout",
     "output_type": "stream",
     "text": [
      "/opt/conda/lib/python3.10/site-packages/torchvision/models/_utils.py:208: UserWarning: The parameter 'pretrained' is deprecated since 0.13 and may be removed in the future, please use 'weights' instead.\r\n",
      "  warnings.warn(\r\n",
      "/opt/conda/lib/python3.10/site-packages/torchvision/models/_utils.py:223: UserWarning: Arguments other than a weight enum or `None` for 'weights' are deprecated since 0.13 and may be removed in the future. The current behavior is equivalent to passing `weights=ResNet50_Weights.IMAGENET1K_V1`. You can also use `weights=ResNet50_Weights.DEFAULT` to get the most up-to-date weights.\r\n",
      "  warnings.warn(msg)\r\n",
      "Using Random Forest Model\r\n",
      "Misclassified images fetching: 100%|████████| 400/400 [00:00<00:00, 1545.39it/s]\r\n",
      "Train Directory: /kaggle/input/disasterclassification/train\r\n",
      "Validation Directory: /kaggle/input/disasterclassification/validation\r\n",
      "Model Type: rf\r\n"
     ]
    }
   ],
   "source": [
    "!python3 /kaggle/input/ml-ass/main.py \"/kaggle/input/disasterclassification/train\" \"/kaggle/input/disasterclassification/validation\" rf"
   ]
  },
  {
   "cell_type": "code",
   "execution_count": 3,
   "id": "9168eced",
   "metadata": {
    "execution": {
     "iopub.execute_input": "2024-11-18T11:58:33.278926Z",
     "iopub.status.busy": "2024-11-18T11:58:33.278561Z",
     "iopub.status.idle": "2024-11-18T12:02:10.652443Z",
     "shell.execute_reply": "2024-11-18T12:02:10.651435Z"
    },
    "papermill": {
     "duration": 217.381414,
     "end_time": "2024-11-18T12:02:10.654781",
     "exception": false,
     "start_time": "2024-11-18T11:58:33.273367",
     "status": "completed"
    },
    "tags": []
   },
   "outputs": [
    {
     "name": "stdout",
     "output_type": "stream",
     "text": [
      "/opt/conda/lib/python3.10/site-packages/torchvision/models/_utils.py:208: UserWarning: The parameter 'pretrained' is deprecated since 0.13 and may be removed in the future, please use 'weights' instead.\r\n",
      "  warnings.warn(\r\n",
      "/opt/conda/lib/python3.10/site-packages/torchvision/models/_utils.py:223: UserWarning: Arguments other than a weight enum or `None` for 'weights' are deprecated since 0.13 and may be removed in the future. The current behavior is equivalent to passing `weights=ResNet50_Weights.IMAGENET1K_V1`. You can also use `weights=ResNet50_Weights.DEFAULT` to get the most up-to-date weights.\r\n",
      "  warnings.warn(msg)\r\n",
      "Using AdaBoost Model\r\n",
      "/opt/conda/lib/python3.10/site-packages/sklearn/ensemble/_base.py:166: FutureWarning: `base_estimator` was renamed to `estimator` in version 1.2 and will be removed in 1.4.\r\n",
      "  warnings.warn(\r\n",
      "Misclassified images fetching: 100%|████████| 400/400 [00:00<00:00, 1339.49it/s]\r\n",
      "Train Directory: /kaggle/input/disasterclassification/train\r\n",
      "Validation Directory: /kaggle/input/disasterclassification/validation\r\n",
      "Model Type: ada\r\n"
     ]
    }
   ],
   "source": [
    "!python3 /kaggle/input/ml-ass/main.py \"/kaggle/input/disasterclassification/train\" \"/kaggle/input/disasterclassification/validation\" ada"
   ]
  },
  {
   "cell_type": "code",
   "execution_count": 4,
   "id": "d6f59c94",
   "metadata": {
    "execution": {
     "iopub.execute_input": "2024-11-18T12:02:10.665621Z",
     "iopub.status.busy": "2024-11-18T12:02:10.665304Z",
     "iopub.status.idle": "2024-11-18T13:54:32.504471Z",
     "shell.execute_reply": "2024-11-18T13:54:32.503167Z"
    },
    "papermill": {
     "duration": 6741.847822,
     "end_time": "2024-11-18T13:54:32.507290",
     "exception": false,
     "start_time": "2024-11-18T12:02:10.659468",
     "status": "completed"
    },
    "tags": []
   },
   "outputs": [
    {
     "name": "stdout",
     "output_type": "stream",
     "text": [
      "/opt/conda/lib/python3.10/site-packages/torchvision/models/_utils.py:208: UserWarning: The parameter 'pretrained' is deprecated since 0.13 and may be removed in the future, please use 'weights' instead.\r\n",
      "  warnings.warn(\r\n",
      "/opt/conda/lib/python3.10/site-packages/torchvision/models/_utils.py:223: UserWarning: Arguments other than a weight enum or `None` for 'weights' are deprecated since 0.13 and may be removed in the future. The current behavior is equivalent to passing `weights=ResNet50_Weights.IMAGENET1K_V1`. You can also use `weights=ResNet50_Weights.DEFAULT` to get the most up-to-date weights.\r\n",
      "  warnings.warn(msg)\r\n",
      "Using Neural Network Model\r\n",
      "Training resnet50 model\r\n",
      "Model saved at epoch 1\r\n",
      "Model saved at epoch 2\r\n",
      "Model saved at epoch 4\r\n",
      "Model saved at epoch 5\r\n",
      "Model saved at epoch 9\r\n",
      "Training densenet121 model\r\n",
      "/opt/conda/lib/python3.10/site-packages/torchvision/models/_utils.py:208: UserWarning: The parameter 'pretrained' is deprecated since 0.13 and may be removed in the future, please use 'weights' instead.\r\n",
      "  warnings.warn(\r\n",
      "/opt/conda/lib/python3.10/site-packages/torchvision/models/_utils.py:223: UserWarning: Arguments other than a weight enum or `None` for 'weights' are deprecated since 0.13 and may be removed in the future. The current behavior is equivalent to passing `weights=DenseNet121_Weights.IMAGENET1K_V1`. You can also use `weights=DenseNet121_Weights.DEFAULT` to get the most up-to-date weights.\r\n",
      "  warnings.warn(msg)\r\n",
      "Downloading: \"https://download.pytorch.org/models/densenet121-a639ec97.pth\" to /root/.cache/torch/hub/checkpoints/densenet121-a639ec97.pth\r\n",
      "100%|███████████████████████████████████████| 30.8M/30.8M [00:00<00:00, 133MB/s]\r\n",
      "Model saved at epoch 1\r\n",
      "Model saved at epoch 2\r\n",
      "Model saved at epoch 4\r\n",
      "Model saved at epoch 7\r\n",
      "Training vgg16 model\r\n",
      "/opt/conda/lib/python3.10/site-packages/torchvision/models/_utils.py:208: UserWarning: The parameter 'pretrained' is deprecated since 0.13 and may be removed in the future, please use 'weights' instead.\r\n",
      "  warnings.warn(\r\n",
      "/opt/conda/lib/python3.10/site-packages/torchvision/models/_utils.py:223: UserWarning: Arguments other than a weight enum or `None` for 'weights' are deprecated since 0.13 and may be removed in the future. The current behavior is equivalent to passing `weights=VGG16_Weights.IMAGENET1K_V1`. You can also use `weights=VGG16_Weights.DEFAULT` to get the most up-to-date weights.\r\n",
      "  warnings.warn(msg)\r\n",
      "Downloading: \"https://download.pytorch.org/models/vgg16-397923af.pth\" to /root/.cache/torch/hub/checkpoints/vgg16-397923af.pth\r\n",
      "100%|█████████████████████████████████████████| 528M/528M [00:02<00:00, 236MB/s]\r\n",
      "Model saved at epoch 1\r\n",
      "Model saved at epoch 2\r\n",
      "Model saved at epoch 3\r\n",
      "Model saved at epoch 4\r\n",
      "Model saved at epoch 6\r\n",
      "Model saved at epoch 7\r\n",
      "Model saved at epoch 9\r\n",
      "Training mobilenet_v2 model\r\n",
      "/opt/conda/lib/python3.10/site-packages/torchvision/models/_utils.py:208: UserWarning: The parameter 'pretrained' is deprecated since 0.13 and may be removed in the future, please use 'weights' instead.\r\n",
      "  warnings.warn(\r\n",
      "/opt/conda/lib/python3.10/site-packages/torchvision/models/_utils.py:223: UserWarning: Arguments other than a weight enum or `None` for 'weights' are deprecated since 0.13 and may be removed in the future. The current behavior is equivalent to passing `weights=MobileNet_V2_Weights.IMAGENET1K_V1`. You can also use `weights=MobileNet_V2_Weights.DEFAULT` to get the most up-to-date weights.\r\n",
      "  warnings.warn(msg)\r\n",
      "Downloading: \"https://download.pytorch.org/models/mobilenet_v2-b0353104.pth\" to /root/.cache/torch/hub/checkpoints/mobilenet_v2-b0353104.pth\r\n",
      "100%|██████████████████████████████████████| 13.6M/13.6M [00:00<00:00, 67.4MB/s]\r\n",
      "Model saved at epoch 1\r\n",
      "Model saved at epoch 2\r\n",
      "Model saved at epoch 5\r\n",
      "Model saved at epoch 10\r\n",
      "Training efficientnet_b0 model\r\n",
      "/opt/conda/lib/python3.10/site-packages/torchvision/models/_utils.py:208: UserWarning: The parameter 'pretrained' is deprecated since 0.13 and may be removed in the future, please use 'weights' instead.\r\n",
      "  warnings.warn(\r\n",
      "/opt/conda/lib/python3.10/site-packages/torchvision/models/_utils.py:223: UserWarning: Arguments other than a weight enum or `None` for 'weights' are deprecated since 0.13 and may be removed in the future. The current behavior is equivalent to passing `weights=EfficientNet_B0_Weights.IMAGENET1K_V1`. You can also use `weights=EfficientNet_B0_Weights.DEFAULT` to get the most up-to-date weights.\r\n",
      "  warnings.warn(msg)\r\n",
      "Downloading: \"https://download.pytorch.org/models/efficientnet_b0_rwightman-7f5810bc.pth\" to /root/.cache/torch/hub/checkpoints/efficientnet_b0_rwightman-7f5810bc.pth\r\n",
      "100%|██████████████████████████████████████| 20.5M/20.5M [00:00<00:00, 77.6MB/s]\r\n",
      "Model saved at epoch 1\r\n",
      "Model saved at epoch 3\r\n",
      "Model saved at epoch 5\r\n",
      "Model saved at epoch 6\r\n",
      "Training resnet18 model\r\n",
      "/opt/conda/lib/python3.10/site-packages/torchvision/models/_utils.py:208: UserWarning: The parameter 'pretrained' is deprecated since 0.13 and may be removed in the future, please use 'weights' instead.\r\n",
      "  warnings.warn(\r\n",
      "/opt/conda/lib/python3.10/site-packages/torchvision/models/_utils.py:223: UserWarning: Arguments other than a weight enum or `None` for 'weights' are deprecated since 0.13 and may be removed in the future. The current behavior is equivalent to passing `weights=ResNet18_Weights.IMAGENET1K_V1`. You can also use `weights=ResNet18_Weights.DEFAULT` to get the most up-to-date weights.\r\n",
      "  warnings.warn(msg)\r\n",
      "Downloading: \"https://download.pytorch.org/models/resnet18-f37072fd.pth\" to /root/.cache/torch/hub/checkpoints/resnet18-f37072fd.pth\r\n",
      "100%|███████████████████████████████████████| 44.7M/44.7M [00:00<00:00, 200MB/s]\r\n",
      "Model saved at epoch 1\r\n",
      "Model saved at epoch 2\r\n",
      "Model saved at epoch 3\r\n",
      "Model saved at epoch 4\r\n",
      "Model saved at epoch 6\r\n",
      "Training alexnet model\r\n",
      "/opt/conda/lib/python3.10/site-packages/torchvision/models/_utils.py:208: UserWarning: The parameter 'pretrained' is deprecated since 0.13 and may be removed in the future, please use 'weights' instead.\r\n",
      "  warnings.warn(\r\n",
      "/opt/conda/lib/python3.10/site-packages/torchvision/models/_utils.py:223: UserWarning: Arguments other than a weight enum or `None` for 'weights' are deprecated since 0.13 and may be removed in the future. The current behavior is equivalent to passing `weights=AlexNet_Weights.IMAGENET1K_V1`. You can also use `weights=AlexNet_Weights.DEFAULT` to get the most up-to-date weights.\r\n",
      "  warnings.warn(msg)\r\n",
      "Downloading: \"https://download.pytorch.org/models/alexnet-owt-7be5be79.pth\" to /root/.cache/torch/hub/checkpoints/alexnet-owt-7be5be79.pth\r\n",
      "100%|█████████████████████████████████████████| 233M/233M [00:01<00:00, 231MB/s]\r\n",
      "Model saved at epoch 1\r\n",
      "Model saved at epoch 3\r\n",
      "Model saved at epoch 4\r\n",
      "Model saved at epoch 5\r\n",
      "/opt/conda/lib/python3.10/site-packages/sklearn/metrics/_classification.py:1344: UndefinedMetricWarning: Precision and F-score are ill-defined and being set to 0.0 in labels with no predicted samples. Use `zero_division` parameter to control this behavior.\r\n",
      "  _warn_prf(average, modifier, msg_start, len(result))\r\n",
      "/opt/conda/lib/python3.10/site-packages/sklearn/metrics/_classification.py:1344: UndefinedMetricWarning: Precision and F-score are ill-defined and being set to 0.0 in labels with no predicted samples. Use `zero_division` parameter to control this behavior.\r\n",
      "  _warn_prf(average, modifier, msg_start, len(result))\r\n",
      "/opt/conda/lib/python3.10/site-packages/sklearn/metrics/_classification.py:1344: UndefinedMetricWarning: Precision and F-score are ill-defined and being set to 0.0 in labels with no predicted samples. Use `zero_division` parameter to control this behavior.\r\n",
      "  _warn_prf(average, modifier, msg_start, len(result))\r\n",
      "/opt/conda/lib/python3.10/site-packages/sklearn/metrics/_classification.py:1344: UndefinedMetricWarning: Precision and F-score are ill-defined and being set to 0.0 in labels with no predicted samples. Use `zero_division` parameter to control this behavior.\r\n",
      "  _warn_prf(average, modifier, msg_start, len(result))\r\n",
      "/opt/conda/lib/python3.10/site-packages/sklearn/metrics/_classification.py:1344: UndefinedMetricWarning: Precision and F-score are ill-defined and being set to 0.0 in labels with no predicted samples. Use `zero_division` parameter to control this behavior.\r\n",
      "  _warn_prf(average, modifier, msg_start, len(result))\r\n",
      "/opt/conda/lib/python3.10/site-packages/sklearn/metrics/_classification.py:1344: UndefinedMetricWarning: Precision and F-score are ill-defined and being set to 0.0 in labels with no predicted samples. Use `zero_division` parameter to control this behavior.\r\n",
      "  _warn_prf(average, modifier, msg_start, len(result))\r\n",
      "Training squeezenet1_0 model\r\n",
      "/opt/conda/lib/python3.10/site-packages/torchvision/models/_utils.py:208: UserWarning: The parameter 'pretrained' is deprecated since 0.13 and may be removed in the future, please use 'weights' instead.\r\n",
      "  warnings.warn(\r\n",
      "/opt/conda/lib/python3.10/site-packages/torchvision/models/_utils.py:223: UserWarning: Arguments other than a weight enum or `None` for 'weights' are deprecated since 0.13 and may be removed in the future. The current behavior is equivalent to passing `weights=SqueezeNet1_0_Weights.IMAGENET1K_V1`. You can also use `weights=SqueezeNet1_0_Weights.DEFAULT` to get the most up-to-date weights.\r\n",
      "  warnings.warn(msg)\r\n",
      "Downloading: \"https://download.pytorch.org/models/squeezenet1_0-b66bff10.pth\" to /root/.cache/torch/hub/checkpoints/squeezenet1_0-b66bff10.pth\r\n",
      "100%|██████████████████████████████████████| 4.78M/4.78M [00:00<00:00, 87.1MB/s]\r\n",
      "Model saved at epoch 1\r\n",
      "Model saved at epoch 2\r\n",
      "Model saved at epoch 3\r\n",
      "Model saved at epoch 6\r\n",
      "Model saved at epoch 9\r\n",
      "Model saved at epoch 10\r\n",
      "Training shufflenet_v2_x1_0 model\r\n",
      "/opt/conda/lib/python3.10/site-packages/torchvision/models/_utils.py:208: UserWarning: The parameter 'pretrained' is deprecated since 0.13 and may be removed in the future, please use 'weights' instead.\r\n",
      "  warnings.warn(\r\n",
      "/opt/conda/lib/python3.10/site-packages/torchvision/models/_utils.py:223: UserWarning: Arguments other than a weight enum or `None` for 'weights' are deprecated since 0.13 and may be removed in the future. The current behavior is equivalent to passing `weights=ShuffleNet_V2_X1_0_Weights.IMAGENET1K_V1`. You can also use `weights=ShuffleNet_V2_X1_0_Weights.DEFAULT` to get the most up-to-date weights.\r\n",
      "  warnings.warn(msg)\r\n",
      "Downloading: \"https://download.pytorch.org/models/shufflenetv2_x1-5666bf0f80.pth\" to /root/.cache/torch/hub/checkpoints/shufflenetv2_x1-5666bf0f80.pth\r\n",
      "100%|███████████████████████████████████████| 8.79M/8.79M [00:00<00:00, 143MB/s]\r\n",
      "Model saved at epoch 1\r\n",
      "Model saved at epoch 3\r\n",
      "Model saved at epoch 6\r\n",
      "Training googlenet model\r\n",
      "/opt/conda/lib/python3.10/site-packages/torchvision/models/_utils.py:208: UserWarning: The parameter 'pretrained' is deprecated since 0.13 and may be removed in the future, please use 'weights' instead.\r\n",
      "  warnings.warn(\r\n",
      "/opt/conda/lib/python3.10/site-packages/torchvision/models/_utils.py:223: UserWarning: Arguments other than a weight enum or `None` for 'weights' are deprecated since 0.13 and may be removed in the future. The current behavior is equivalent to passing `weights=GoogLeNet_Weights.IMAGENET1K_V1`. You can also use `weights=GoogLeNet_Weights.DEFAULT` to get the most up-to-date weights.\r\n",
      "  warnings.warn(msg)\r\n",
      "Downloading: \"https://download.pytorch.org/models/googlenet-1378be20.pth\" to /root/.cache/torch/hub/checkpoints/googlenet-1378be20.pth\r\n",
      "100%|███████████████████████████████████████| 49.7M/49.7M [00:00<00:00, 157MB/s]\r\n",
      "Model saved at epoch 1\r\n",
      "Model saved at epoch 2\r\n",
      "Model saved at epoch 3\r\n",
      "Model saved at epoch 8\r\n",
      "Model saved at epoch 10\r\n",
      "model.safetensors: 100%|██████████████████████| 346M/346M [00:01<00:00, 225MB/s]\r\n",
      "Model saved at epoch 1\r\n",
      "Model saved at epoch 2\r\n",
      "Model saved at epoch 3\r\n",
      "Model saved at epoch 4\r\n",
      "Model saved at epoch 5\r\n",
      "Model saved at epoch 6\r\n",
      "Model saved at epoch 7\r\n",
      "Model saved at epoch 8\r\n",
      "Model saved at epoch 9\r\n",
      "Train Directory: /kaggle/input/disasterclassification/train\r\n",
      "Validation Directory: /kaggle/input/disasterclassification/validation\r\n",
      "Model Type: nn\r\n"
     ]
    }
   ],
   "source": [
    "!python3 /kaggle/input/ml-ass/main.py \"/kaggle/input/disasterclassification/train\" \"/kaggle/input/disasterclassification/validation\" nn"
   ]
  },
  {
   "cell_type": "code",
   "execution_count": null,
   "id": "66fb62f4",
   "metadata": {
    "papermill": {
     "duration": 0.020175,
     "end_time": "2024-11-18T13:54:32.547446",
     "exception": false,
     "start_time": "2024-11-18T13:54:32.527271",
     "status": "completed"
    },
    "tags": []
   },
   "outputs": [],
   "source": []
  }
 ],
 "metadata": {
  "kaggle": {
   "accelerator": "gpu",
   "dataSources": [
    {
     "databundleVersionId": 10081864,
     "datasetId": 6031130,
     "sourceId": 9833038,
     "sourceType": "datasetVersion"
    },
    {
     "databundleVersionId": 10202333,
     "datasetId": 6111744,
     "sourceId": 9941048,
     "sourceType": "datasetVersion"
    }
   ],
   "dockerImageVersionId": 30787,
   "isGpuEnabled": true,
   "isInternetEnabled": true,
   "language": "python",
   "sourceType": "notebook"
  },
  "kernelspec": {
   "display_name": "Python 3",
   "language": "python",
   "name": "python3"
  },
  "language_info": {
   "codemirror_mode": {
    "name": "ipython",
    "version": 3
   },
   "file_extension": ".py",
   "mimetype": "text/x-python",
   "name": "python",
   "nbconvert_exporter": "python",
   "pygments_lexer": "ipython3",
   "version": "3.10.14"
  },
  "papermill": {
   "default_parameters": {},
   "duration": 7114.603305,
   "end_time": "2024-11-18T13:54:32.886670",
   "environment_variables": {},
   "exception": null,
   "input_path": "__notebook__.ipynb",
   "output_path": "__notebook__.ipynb",
   "parameters": {},
   "start_time": "2024-11-18T11:55:58.283365",
   "version": "2.6.0"
  }
 },
 "nbformat": 4,
 "nbformat_minor": 5
}
