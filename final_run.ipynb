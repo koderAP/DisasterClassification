{
 "cells": [
  {
   "cell_type": "code",
   "execution_count": 1,
   "id": "c138a0d8",
   "metadata": {
    "_cell_guid": "b1076dfc-b9ad-4769-8c92-a6c4dae69d19",
    "_uuid": "8f2839f25d086af736a60e9eeb907d3b93b6e0e5",
    "execution": {
     "iopub.execute_input": "2024-11-23T16:32:45.382037Z",
     "iopub.status.busy": "2024-11-23T16:32:45.381673Z",
     "iopub.status.idle": "2024-11-23T16:34:06.692243Z",
     "shell.execute_reply": "2024-11-23T16:34:06.691128Z"
    },
    "papermill": {
     "duration": 81.316128,
     "end_time": "2024-11-23T16:34:06.694398",
     "exception": false,
     "start_time": "2024-11-23T16:32:45.378270",
     "status": "completed"
    },
    "tags": []
   },
   "outputs": [
    {
     "name": "stdout",
     "output_type": "stream",
     "text": [
      "/opt/conda/lib/python3.10/site-packages/torchvision/models/_utils.py:208: UserWarning: The parameter 'pretrained' is deprecated since 0.13 and may be removed in the future, please use 'weights' instead.\r\n",
      "  warnings.warn(\r\n",
      "/opt/conda/lib/python3.10/site-packages/torchvision/models/_utils.py:223: UserWarning: Arguments other than a weight enum or `None` for 'weights' are deprecated since 0.13 and may be removed in the future. The current behavior is equivalent to passing `weights=ResNet50_Weights.IMAGENET1K_V1`. You can also use `weights=ResNet50_Weights.DEFAULT` to get the most up-to-date weights.\r\n",
      "  warnings.warn(msg)\r\n",
      "Downloading: \"https://download.pytorch.org/models/resnet50-0676ba61.pth\" to /root/.cache/torch/hub/checkpoints/resnet50-0676ba61.pth\r\n",
      "100%|███████████████████████████████████████| 97.8M/97.8M [00:00<00:00, 205MB/s]\r\n",
      "Using Support Vector Machine Model\r\n",
      "<PIL.Image.Image image mode=RGB size=666x700 at 0x7CEDF60FB310>\r\n",
      "<PIL.Image.Image image mode=RGB size=480x360 at 0x7CEDF60FB550>\r\n",
      "<PIL.Image.Image image mode=RGB size=900x499 at 0x7CEDF60FBDC0>\r\n",
      "<PIL.Image.Image image mode=RGB size=696x522 at 0x7CEDF60FBD30>\r\n",
      "<PIL.Image.Image image mode=RGB size=800x518 at 0x7CEDF60FBFD0>\r\n",
      "<PIL.Image.Image image mode=RGB size=460x279 at 0x7CEDF60FBC10>\r\n",
      "<PIL.Image.Image image mode=RGB size=992x558 at 0x7CEDF60FB310>\r\n",
      "<PIL.Image.Image image mode=RGB size=1600x1000 at 0x7CEDF60FB550>\r\n",
      "<PIL.Image.Image image mode=RGB size=2902x1633 at 0x7CEDF60FBDC0>\r\n",
      "<PIL.Image.Image image mode=RGB size=1500x1000 at 0x7CEDF60FBD30>\r\n",
      "Train Directory: /kaggle/input/disasterclassification/train\r\n",
      "Validation Directory: /kaggle/input/disasterclassification/validation\r\n",
      "Model Type: svm\r\n"
     ]
    }
   ],
   "source": [
    "!python3 /kaggle/input/ml-ass/main.py \"/kaggle/input/disasterclassification/train\" \"/kaggle/input/disasterclassification/validation\" svm"
   ]
  },
  {
   "cell_type": "code",
   "execution_count": 2,
   "id": "f50bbf4e",
   "metadata": {
    "execution": {
     "iopub.execute_input": "2024-11-23T16:34:06.700864Z",
     "iopub.status.busy": "2024-11-23T16:34:06.700145Z",
     "iopub.status.idle": "2024-11-23T16:35:11.650948Z",
     "shell.execute_reply": "2024-11-23T16:35:11.650057Z"
    },
    "papermill": {
     "duration": 64.956124,
     "end_time": "2024-11-23T16:35:11.653097",
     "exception": false,
     "start_time": "2024-11-23T16:34:06.696973",
     "status": "completed"
    },
    "tags": []
   },
   "outputs": [
    {
     "name": "stdout",
     "output_type": "stream",
     "text": [
      "/opt/conda/lib/python3.10/site-packages/torchvision/models/_utils.py:208: UserWarning: The parameter 'pretrained' is deprecated since 0.13 and may be removed in the future, please use 'weights' instead.\r\n",
      "  warnings.warn(\r\n",
      "/opt/conda/lib/python3.10/site-packages/torchvision/models/_utils.py:223: UserWarning: Arguments other than a weight enum or `None` for 'weights' are deprecated since 0.13 and may be removed in the future. The current behavior is equivalent to passing `weights=ResNet50_Weights.IMAGENET1K_V1`. You can also use `weights=ResNet50_Weights.DEFAULT` to get the most up-to-date weights.\r\n",
      "  warnings.warn(msg)\r\n",
      "Using Random Forest Model\r\n",
      "Misclassified images fetching: 100%|████████| 400/400 [00:00<00:00, 1624.15it/s]\r\n",
      "Train Directory: /kaggle/input/disasterclassification/train\r\n",
      "Validation Directory: /kaggle/input/disasterclassification/validation\r\n",
      "Model Type: rf\r\n"
     ]
    }
   ],
   "source": [
    "!python3 /kaggle/input/ml-ass/main.py \"/kaggle/input/disasterclassification/train\" \"/kaggle/input/disasterclassification/validation\" rf"
   ]
  },
  {
   "cell_type": "code",
   "execution_count": 3,
   "id": "d0fb5bd2",
   "metadata": {
    "execution": {
     "iopub.execute_input": "2024-11-23T16:35:11.659781Z",
     "iopub.status.busy": "2024-11-23T16:35:11.659483Z",
     "iopub.status.idle": "2024-11-23T16:38:52.378320Z",
     "shell.execute_reply": "2024-11-23T16:38:52.377190Z"
    },
    "papermill": {
     "duration": 220.724966,
     "end_time": "2024-11-23T16:38:52.380740",
     "exception": false,
     "start_time": "2024-11-23T16:35:11.655774",
     "status": "completed"
    },
    "tags": []
   },
   "outputs": [
    {
     "name": "stdout",
     "output_type": "stream",
     "text": [
      "/opt/conda/lib/python3.10/site-packages/torchvision/models/_utils.py:208: UserWarning: The parameter 'pretrained' is deprecated since 0.13 and may be removed in the future, please use 'weights' instead.\r\n",
      "  warnings.warn(\r\n",
      "/opt/conda/lib/python3.10/site-packages/torchvision/models/_utils.py:223: UserWarning: Arguments other than a weight enum or `None` for 'weights' are deprecated since 0.13 and may be removed in the future. The current behavior is equivalent to passing `weights=ResNet50_Weights.IMAGENET1K_V1`. You can also use `weights=ResNet50_Weights.DEFAULT` to get the most up-to-date weights.\r\n",
      "  warnings.warn(msg)\r\n",
      "Using AdaBoost Model\r\n",
      "/opt/conda/lib/python3.10/site-packages/sklearn/ensemble/_base.py:166: FutureWarning: `base_estimator` was renamed to `estimator` in version 1.2 and will be removed in 1.4.\r\n",
      "  warnings.warn(\r\n",
      "Misclassified images fetching: 100%|█████████| 400/400 [00:01<00:00, 372.66it/s]\r\n",
      "Train Directory: /kaggle/input/disasterclassification/train\r\n",
      "Validation Directory: /kaggle/input/disasterclassification/validation\r\n",
      "Model Type: ada\r\n"
     ]
    }
   ],
   "source": [
    "!python3 /kaggle/input/ml-ass/main.py \"/kaggle/input/disasterclassification/train\" \"/kaggle/input/disasterclassification/validation\" ada"
   ]
  },
  {
   "cell_type": "code",
   "execution_count": 4,
   "id": "000a852d",
   "metadata": {
    "execution": {
     "iopub.execute_input": "2024-11-23T16:38:52.388771Z",
     "iopub.status.busy": "2024-11-23T16:38:52.388146Z",
     "iopub.status.idle": "2024-11-23T16:50:08.220186Z",
     "shell.execute_reply": "2024-11-23T16:50:08.219101Z"
    },
    "papermill": {
     "duration": 675.83835,
     "end_time": "2024-11-23T16:50:08.222256",
     "exception": false,
     "start_time": "2024-11-23T16:38:52.383906",
     "status": "completed"
    },
    "tags": []
   },
   "outputs": [
    {
     "name": "stdout",
     "output_type": "stream",
     "text": [
      "/opt/conda/lib/python3.10/site-packages/torchvision/models/_utils.py:208: UserWarning: The parameter 'pretrained' is deprecated since 0.13 and may be removed in the future, please use 'weights' instead.\r\n",
      "  warnings.warn(\r\n",
      "/opt/conda/lib/python3.10/site-packages/torchvision/models/_utils.py:223: UserWarning: Arguments other than a weight enum or `None` for 'weights' are deprecated since 0.13 and may be removed in the future. The current behavior is equivalent to passing `weights=ResNet50_Weights.IMAGENET1K_V1`. You can also use `weights=ResNet50_Weights.DEFAULT` to get the most up-to-date weights.\r\n",
      "  warnings.warn(msg)\r\n",
      "Using Neural Network Model\r\n",
      "Training resnet50 model\r\n",
      "cuda\r\n",
      "Total parameters: 24,559,172\r\n",
      "Training resnet50 Epoch 1/10: 100%|█| 50/50 [00:48<00:00,  1.03it/s, accuracy=89\r\n",
      "Validating resnet50 Epoch 1/10: 100%|█| 13/13 [00:08<00:00,  1.58it/s, accuracy=\r\n",
      "resnet50 Epoch 1/10, Train Loss: 0.3626, Train Acc: 89.81%, Val Loss: 0.1143, Val Acc: 96.50%\r\n",
      "Best model for resnet50 saved with Val Acc: 96.50%\r\n",
      "Training resnet50 Epoch 2/10: 100%|█| 50/50 [00:47<00:00,  1.05it/s, accuracy=98\r\n",
      "Validating resnet50 Epoch 2/10: 100%|█| 13/13 [00:08<00:00,  1.54it/s, accuracy=\r\n",
      "resnet50 Epoch 2/10, Train Loss: 0.0440, Train Acc: 98.81%, Val Loss: 0.1082, Val Acc: 96.25%\r\n",
      "Training resnet50 Epoch 3/10: 100%|█| 50/50 [00:47<00:00,  1.06it/s, accuracy=98\r\n",
      "Validating resnet50 Epoch 3/10: 100%|█| 13/13 [00:08<00:00,  1.62it/s, accuracy=\r\n",
      "resnet50 Epoch 3/10, Train Loss: 0.0356, Train Acc: 98.69%, Val Loss: 0.2247, Val Acc: 93.25%\r\n",
      "Training resnet50 Epoch 4/10: 100%|█| 50/50 [00:47<00:00,  1.05it/s, accuracy=99\r\n",
      "Validating resnet50 Epoch 4/10: 100%|█| 13/13 [00:07<00:00,  1.65it/s, accuracy=\r\n",
      "resnet50 Epoch 4/10, Train Loss: 0.0262, Train Acc: 99.50%, Val Loss: 0.0736, Val Acc: 98.25%\r\n",
      "Best model for resnet50 saved with Val Acc: 98.25%\r\n",
      "Training resnet50 Epoch 5/10: 100%|█| 50/50 [00:47<00:00,  1.05it/s, accuracy=99\r\n",
      "Validating resnet50 Epoch 5/10: 100%|█| 13/13 [00:07<00:00,  1.65it/s, accuracy=\r\n",
      "resnet50 Epoch 5/10, Train Loss: 0.0354, Train Acc: 99.12%, Val Loss: 0.0654, Val Acc: 97.75%\r\n",
      "Training resnet50 Epoch 6/10: 100%|█| 50/50 [00:47<00:00,  1.05it/s, accuracy=98\r\n",
      "Validating resnet50 Epoch 6/10: 100%|█| 13/13 [00:08<00:00,  1.62it/s, accuracy=\r\n",
      "resnet50 Epoch 6/10, Train Loss: 0.0339, Train Acc: 98.88%, Val Loss: 0.1073, Val Acc: 96.25%\r\n",
      "Training resnet50 Epoch 7/10: 100%|█| 50/50 [00:47<00:00,  1.04it/s, accuracy=99\r\n",
      "Validating resnet50 Epoch 7/10: 100%|█| 13/13 [00:08<00:00,  1.59it/s, accuracy=\r\n",
      "resnet50 Epoch 7/10, Train Loss: 0.0279, Train Acc: 99.12%, Val Loss: 0.0733, Val Acc: 97.50%\r\n",
      "Training resnet50 Epoch 8/10: 100%|█| 50/50 [00:47<00:00,  1.05it/s, accuracy=99\r\n",
      "Validating resnet50 Epoch 8/10: 100%|█| 13/13 [00:07<00:00,  1.66it/s, accuracy=\r\n",
      "resnet50 Epoch 8/10, Train Loss: 0.0282, Train Acc: 99.06%, Val Loss: 0.1187, Val Acc: 97.00%\r\n",
      "Training resnet50 Epoch 9/10: 100%|█| 50/50 [00:48<00:00,  1.04it/s, accuracy=99\r\n",
      "Validating resnet50 Epoch 9/10: 100%|█| 13/13 [00:07<00:00,  1.65it/s, accuracy=\r\n",
      "resnet50 Epoch 9/10, Train Loss: 0.0197, Train Acc: 99.31%, Val Loss: 0.1444, Val Acc: 96.50%\r\n",
      "Training resnet50 Epoch 10/10: 100%|█| 50/50 [00:47<00:00,  1.05it/s, accuracy=9\r\n",
      "Validating resnet50 Epoch 10/10: 100%|█| 13/13 [00:08<00:00,  1.62it/s, accuracy\r\n",
      "resnet50 Epoch 10/10, Train Loss: 0.0102, Train Acc: 99.62%, Val Loss: 0.1136, Val Acc: 96.75%\r\n",
      "/kaggle/input/ml-ass/nn_models.py:161: FutureWarning: You are using `torch.load` with `weights_only=False` (the current default value), which uses the default pickle module implicitly. It is possible to construct malicious pickle data which will execute arbitrary code during unpickling (See https://github.com/pytorch/pytorch/blob/main/SECURITY.md#untrusted-models for more details). In a future release, the default value for `weights_only` will be flipped to `True`. This limits the functions that could be executed during unpickling. Arbitrary objects will no longer be allowed to be loaded via this mode unless they are explicitly allowlisted by the user via `torch.serialization.add_safe_globals`. We recommend you start setting `weights_only=True` for any use case where you don't have full control of the loaded file. Please open an issue on GitHub for any issues related to this experimental feature.\r\n",
      "  model.load_state_dict(torch.load(f\"best_{model_name}_model.pth\"))\r\n",
      "Classification Report for train resnet50:\r\n",
      "               precision    recall  f1-score   support\r\n",
      "\r\n",
      "           0     1.0000    1.0000    1.0000       400\r\n",
      "           1     1.0000    1.0000    1.0000       400\r\n",
      "           2     1.0000    1.0000    1.0000       400\r\n",
      "           3     1.0000    1.0000    1.0000       400\r\n",
      "\r\n",
      "    accuracy                         1.0000      1600\r\n",
      "   macro avg     1.0000    1.0000    1.0000      1600\r\n",
      "weighted avg     1.0000    1.0000    1.0000      1600\r\n",
      "\r\n",
      "Train F1 Score for resnet50: 1.0000\r\n",
      "Classification Report for valresnet50:\r\n",
      "               precision    recall  f1-score   support\r\n",
      "\r\n",
      "           0     0.9709    1.0000    0.9852       100\r\n",
      "           1     0.9709    1.0000    0.9852       100\r\n",
      "           2     0.9899    0.9800    0.9849       100\r\n",
      "           3     1.0000    0.9500    0.9744       100\r\n",
      "\r\n",
      "    accuracy                         0.9825       400\r\n",
      "   macro avg     0.9829    0.9825    0.9824       400\r\n",
      "weighted avg     0.9829    0.9825    0.9824       400\r\n",
      "\r\n",
      "Traceback (most recent call last):\r\n",
      "  File \"/kaggle/input/ml-ass/main.py\", line 184, in <module>\r\n",
      "    results = train_and_evaluate_nn_models(train_loader, val_loader, device, num_epochs=10)\r\n",
      "  File \"/kaggle/input/ml-ass/main.py\", line 56, in train_and_evaluate_nn_models\r\n",
      "    save_image(image, image_path)\r\n",
      "  File \"/opt/conda/lib/python3.10/site-packages/torch/utils/_contextlib.py\", line 116, in decorate_context\r\n",
      "    return func(*args, **kwargs)\r\n",
      "  File \"/opt/conda/lib/python3.10/site-packages/torchvision/utils.py\", line 147, in save_image\r\n",
      "    grid = make_grid(tensor, **kwargs)\r\n",
      "  File \"/opt/conda/lib/python3.10/site-packages/torch/utils/_contextlib.py\", line 116, in decorate_context\r\n",
      "    return func(*args, **kwargs)\r\n",
      "  File \"/opt/conda/lib/python3.10/site-packages/torchvision/utils.py\", line 63, in make_grid\r\n",
      "    raise TypeError(f\"tensor or list of tensors expected, got {type(tensor)}\")\r\n",
      "TypeError: tensor or list of tensors expected, got <class 'PIL.JpegImagePlugin.JpegImageFile'>\r\n"
     ]
    }
   ],
   "source": [
    "!python3 /kaggle/input/ml-ass/main.py \"/kaggle/input/disasterclassification/train\" \"/kaggle/input/disasterclassification/validation\" nn"
   ]
  },
  {
   "cell_type": "code",
   "execution_count": null,
   "id": "bb232f58",
   "metadata": {
    "papermill": {
     "duration": 0.029667,
     "end_time": "2024-11-23T16:50:08.282331",
     "exception": false,
     "start_time": "2024-11-23T16:50:08.252664",
     "status": "completed"
    },
    "tags": []
   },
   "outputs": [],
   "source": []
  }
 ],
 "metadata": {
  "kaggle": {
   "accelerator": "gpu",
   "dataSources": [
    {
     "datasetId": 6031130,
     "sourceId": 9833038,
     "sourceType": "datasetVersion"
    },
    {
     "datasetId": 6111744,
     "sourceId": 9993071,
     "sourceType": "datasetVersion"
    }
   ],
   "dockerImageVersionId": 30787,
   "isGpuEnabled": true,
   "isInternetEnabled": true,
   "language": "python",
   "sourceType": "notebook"
  },
  "kernelspec": {
   "display_name": "Python 3",
   "language": "python",
   "name": "python3"
  },
  "language_info": {
   "codemirror_mode": {
    "name": "ipython",
    "version": 3
   },
   "file_extension": ".py",
   "mimetype": "text/x-python",
   "name": "python",
   "nbconvert_exporter": "python",
   "pygments_lexer": "ipython3",
   "version": "3.10.14"
  },
  "papermill": {
   "default_parameters": {},
   "duration": 1045.546885,
   "end_time": "2024-11-23T16:50:08.531610",
   "environment_variables": {},
   "exception": null,
   "input_path": "__notebook__.ipynb",
   "output_path": "__notebook__.ipynb",
   "parameters": {},
   "start_time": "2024-11-23T16:32:42.984725",
   "version": "2.6.0"
  }
 },
 "nbformat": 4,
 "nbformat_minor": 5
}
